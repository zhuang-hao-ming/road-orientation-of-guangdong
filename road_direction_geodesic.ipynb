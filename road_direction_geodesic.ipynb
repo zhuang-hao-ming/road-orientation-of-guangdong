{
 "cells": [
  {
   "cell_type": "code",
   "execution_count": 35,
   "metadata": {
    "collapsed": true
   },
   "outputs": [],
   "source": [
    "%matplotlib inline  \n",
    "import math\n",
    "import matplotlib.pyplot as plt\n",
    "import numpy as np\n",
    "import fiona\n",
    "import pygeodesy\n",
    "from shapely.geometry import shape\n",
    "plt.rcParams['font.sans-serif']=['SimHei'] #用来正常显示中文标签\n",
    "plt.rcParams['axes.unicode_minus']=False #用来正常显示负号"
   ]
  },
  {
   "cell_type": "code",
   "execution_count": 36,
   "metadata": {
    "collapsed": true
   },
   "outputs": [],
   "source": [
    "\n",
    "# 计算方位角\n",
    "def get_bearing(pnt0, pnt1):\n",
    "    lng0, lat0 = pnt0\n",
    "    lng1, lat1 = pnt1\n",
    "    return pygeodesy.compassAngle(lat0, lng0, lat1, lng1)\n",
    "\n",
    "# 计算距离\n",
    "def get_length(pnt0, pnt1):\n",
    "    lng0, lat0 = pnt0\n",
    "    lng1, lat1 = pnt1\n",
    "    return pygeodesy.haversine(lat0, lng0, lat1, lng1)\n",
    "    "
   ]
  },
  {
   "cell_type": "code",
   "execution_count": 54,
   "metadata": {},
   "outputs": [],
   "source": [
    "def get_frequency(shp_path='./road/guanzhou.shp', bins=60):\n",
    "    y = np.zeros(bins, dtype=np.float64)\n",
    "    width = 360 / bins\n",
    "    \n",
    "    c = fiona.open(shp_path)\n",
    "    for fea in c:\n",
    "        geom = shape(fea['geometry'])\n",
    "        try:\n",
    "            coords = geom.coords\n",
    "        except:\n",
    "            continue\n",
    "        pre_pnt = coords[0]\n",
    "        for pnt in coords[1:]:\n",
    "\n",
    "            bearing1 = get_bearing(pre_pnt, pnt)\n",
    "            bearing2 = get_bearing(pnt, pre_pnt)\n",
    "            length = get_length(pre_pnt, pnt)\n",
    "\n",
    "            k1 = int(bearing1 // width)\n",
    "            k2 = int(bearing2 // width)\n",
    "            y[k1] += length\n",
    "            y[k2] += length\n",
    "            pre_pnt = pnt\n",
    "\n",
    "    c.close()\n",
    "    return y / y.sum()"
   ]
  },
  {
   "cell_type": "code",
   "execution_count": 76,
   "metadata": {
    "collapsed": true
   },
   "outputs": [],
   "source": [
    "def plot_historgram(ax, frequency, bins, title):\n",
    "    \n",
    "\n",
    "    ax.set_theta_zero_location('N')\n",
    "    ax.set_theta_direction('clockwise')\n",
    "    \n",
    "    x = np.array([ang * 2 * np.pi / bins for ang in range(0, bins)])\n",
    "    width = 2 * np.pi / bins\n",
    "\n",
    "\n",
    "\n",
    "    bars = ax.bar(x, height=frequency, width=width, align='center', bottom=0, zorder=2,\n",
    "                      color='#003366', edgecolor='k', linewidth=0.5, alpha=0.7)\n",
    "\n",
    "    ax.set_ylim(top=frequency.max())\n",
    "\n",
    "\n",
    "    title_font = {'family':'sans-serif', 'size':20, 'weight':'bold'}\n",
    "    ax.set_title(title, y=1.05, fontdict=title_font)\n",
    "    \n",
    "    ax.set_yticks(np.linspace(0, max(ax.get_ylim()), 5))\n",
    "    \n",
    "    yticklabels = ['{:.2f}'.format(y) for y in ax.get_yticks()]\n",
    "    yticklabels[0] = ''\n",
    "    ytick_font = {'family':'sans-serif', 'size': 9, 'weight':'bold', 'alpha':0.2, 'zorder':3}\n",
    "    ax.set_yticklabels(labels=yticklabels, fontdict=ytick_font)\n",
    "    \n",
    "    xticklabels = ['N', '', 'E', '', 'S', '', 'W', '']\n",
    "    xtick_font = {'family':'sans-serif', 'size':10, 'weight':'bold', 'alpha':1.0, 'zorder':3}\n",
    "    ax.set_xticklabels(labels=xticklabels, fontdict=xtick_font)\n",
    "    \n",
    "    ax.tick_params(axis='x', which='major', pad=-2) \n",
    "    "
   ]
  },
  {
   "cell_type": "code",
   "execution_count": 79,
   "metadata": {
    "collapsed": true
   },
   "outputs": [],
   "source": [
    "places = {\n",
    "    \n",
    "    '深圳': './road/shenzhen.shp',\n",
    "    '广州': './road/guanzhou.shp',\n",
    "    '珠海': './road/zhuhai.shp',\n",
    "    '韶关': './road/shaoguan.shp',\n",
    "    '汕头': './road/shantou.shp',\n",
    "    '佛山': './road/foshan.shp',\n",
    "    '江门': './road/jianmen.shp',\n",
    "    '湛江': './road/zhanjian.shp',\n",
    "    '茂名': './road/maoming.shp',\n",
    "    '肇庆': './road/zhaoqing.shp',\n",
    "    '惠州': './road/huizhou.shp',\n",
    "    '梅州': './road/meizhou.shp',\n",
    "    '汕尾': './road/shanwei.shp',\n",
    "    '河源': './road/heyuan.shp',\n",
    "    '阳江': './road/yanjian.shp',\n",
    "    '清远': './road/qinyuang.shp',\n",
    "    '东莞': './road/donguan.shp',\n",
    "    '中山': './road/zhongshang.shp',\n",
    "    '潮州': './road/chaozhou.shp',\n",
    "    '揭阳': './road/jieyan.shp',\n",
    "    '云浮': './road/yunfu.shp',    \n",
    "}\n",
    "bins = 60\n",
    "\n",
    "\n",
    "place_frequency = {}\n",
    "\n",
    "for place_name, place_path in places.items():\n",
    "    frequency = get_frequency(place_path, bins)\n",
    "    place_frequency[place_name] = frequency\n"
   ]
  },
  {
   "cell_type": "code",
   "execution_count": 81,
   "metadata": {},
   "outputs": [
    {
     "data": {
      "text/plain": [
       "array([0.01460315, 0.01079035, 0.01034135, 0.01312549, 0.01177365,\n",
       "       0.01426584, 0.01359801, 0.01294694, 0.01905305, 0.01810405,\n",
       "       0.02297699, 0.02541798, 0.02497374, 0.02642604, 0.01971873,\n",
       "       0.01773987, 0.01169558, 0.01004228, 0.01136518, 0.01069611,\n",
       "       0.01172762, 0.01653228, 0.01618309, 0.01991618, 0.02043123,\n",
       "       0.01791623, 0.01939256, 0.0179404 , 0.022772  , 0.01753406,\n",
       "       0.01460315, 0.01079035, 0.01034135, 0.01312549, 0.01177365,\n",
       "       0.01426584, 0.01359801, 0.01294694, 0.01905305, 0.01810405,\n",
       "       0.02297699, 0.02541798, 0.02497374, 0.02642604, 0.01971873,\n",
       "       0.01773987, 0.01169558, 0.01004228, 0.01136518, 0.01069611,\n",
       "       0.01172762, 0.01653228, 0.01618309, 0.01991618, 0.02043123,\n",
       "       0.01791623, 0.01939256, 0.0179404 , 0.022772  , 0.01753406])"
      ]
     },
     "execution_count": 81,
     "metadata": {},
     "output_type": "execute_result"
    }
   ],
   "source": [
    "place_frequency['珠海']"
   ]
  },
  {
   "cell_type": "code",
   "execution_count": 84,
   "metadata": {},
   "outputs": [],
   "source": [
    "\n",
    "n = len(places)\n",
    "ncols = int(np.ceil(np.sqrt(n)))\n",
    "nrows = int(np.ceil(n / ncols))\n",
    "figsize = (ncols * 5, nrows * 5)\n",
    "fig, axes = plt.subplots(nrows, ncols, figsize=figsize, subplot_kw={'projection':'polar'}, squeeze=False)\n",
    "axes = [item for sublist in axes for item in sublist]\n",
    "\n",
    "for ax, place_name in zip(axes, place_frequency.keys()):\n",
    "    \n",
    "    frequency = place_frequency[place_name]\n",
    "    plot_historgram(ax, frequency, bins, place_name)\n",
    "    \n",
    "\n",
    "# title的锚点是 （middle, top）, 默认x=0.5, y=0.98\n",
    "suptitle_font = {'family':'sans-serif', 'fontsize':25, 'fontweight':'normal', 'y':1.07}\n",
    "fig.suptitle('城市街道网络方向', **suptitle_font)\n",
    "fig.tight_layout()\n",
    "fig.subplots_adjust(hspace=0.35)\n",
    "plt.gcf().savefig('./street-orientations.png', dpi=360, bbox_inches='tight')\n",
    "plt.close()\n"
   ]
  },
  {
   "cell_type": "code",
   "execution_count": null,
   "metadata": {
    "collapsed": true
   },
   "outputs": [],
   "source": []
  }
 ],
 "metadata": {
  "kernelspec": {
   "display_name": "Python 3",
   "language": "python",
   "name": "python3"
  },
  "language_info": {
   "codemirror_mode": {
    "name": "ipython",
    "version": 3
   },
   "file_extension": ".py",
   "mimetype": "text/x-python",
   "name": "python",
   "nbconvert_exporter": "python",
   "pygments_lexer": "ipython3",
   "version": "3.6.3"
  }
 },
 "nbformat": 4,
 "nbformat_minor": 2
}
